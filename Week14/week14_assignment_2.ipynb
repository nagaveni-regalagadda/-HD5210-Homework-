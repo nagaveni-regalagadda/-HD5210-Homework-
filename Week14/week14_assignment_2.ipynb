{
  "cells": [
    {
      "cell_type": "markdown",
      "metadata": {
        "nbgrader": {
          "grade": false,
          "grade_id": "cell-fc1c39d0d6f8b82a",
          "locked": true,
          "schema_version": 1,
          "solution": false
        },
        "id": "e2P-v631Pl_j"
      },
      "source": [
        "# Week 14 Programming Assignment\n",
        "\n",
        "As you're working on identifying data for your final project, it's helpful to spend some time exploring your various data files.  For this week's assignment, I'd like you to take a few of the ideas from the the lectures, review assignment, and tonight's lecture to start exploring the data you plan to use for the final project.\n",
        "\n",
        "For the following activities, you can use just one of the data files that you've identified, or you can do the activities using different data files.  That's up to you.  Please describe what you're doing in a Markdown cell or in the comments of your code.  When you've completed the assignment, submit it as normal."
      ]
    },
    {
      "cell_type": "markdown",
      "metadata": {
        "id": "fFJWS1Q5Pl_l"
      },
      "source": [
        "### 1. Basic Statistics\n",
        "\n",
        "Use Python to read in your data file and show many rows and columns your data has."
      ]
    },
    {
      "cell_type": "code",
      "execution_count": 1,
      "metadata": {
        "id": "QBGIgOCYPl_m",
        "outputId": "30cf96fa-14fa-446f-ff8b-84a707e252d3",
        "colab": {
          "base_uri": "https://localhost:8080/"
        }
      },
      "outputs": [
        {
          "output_type": "execute_result",
          "data": {
            "text/plain": [
              "(6192, 9)"
            ]
          },
          "metadata": {},
          "execution_count": 1
        }
      ],
      "source": [
        "import pandas as pd\n",
        "data = pd.read_csv(\"tuberculosis_data_WHO.csv\")\n",
        "\n",
        "data.shape"
      ]
    },
    {
      "cell_type": "markdown",
      "metadata": {
        "id": "cWPmSCQ-Pl_n"
      },
      "source": [
        "### 2. Data Diversity\n",
        "\n",
        "Use Python to identify how many unique values each column in your data has.  Use Python to identify which column has the greatest number of distinct values (aka the most diversity)?  If your data has a unique identifier (e.g. a person or visit or record ID) then find the column with the next most number of unique values."
      ]
    },
    {
      "cell_type": "code",
      "execution_count": 2,
      "metadata": {
        "id": "mVnAp2EKPl_n",
        "outputId": "9f95bfec-6668-4b88-adc2-8018281dce5c",
        "colab": {
          "base_uri": "https://localhost:8080/"
        }
      },
      "outputs": [
        {
          "output_type": "stream",
          "name": "stdout",
          "text": [
            "Number of unique values in each column:\n",
            "Indicator: 4\n",
            "PUBLISH STATES: 1\n",
            "Year: 8\n",
            "WHO region: 6\n",
            "World Bank income group: 4\n",
            "Country: 194\n",
            "Numeric: 959\n",
            "Low: 791\n",
            "High: 1097\n",
            "\n",
            "Column with most unique values: High (1097 unique values)\n",
            "Column with second most unique values: Numeric (959 unique values)\n",
            "\n",
            "Sample values from most diverse column (High):\n",
            "0       640.0\n",
            "1         1.1\n",
            "2         1.8\n",
            "3      1100.0\n",
            "4    210000.0\n",
            "Name: High, dtype: float64\n",
            "\n",
            "Sample values from second most diverse column (Numeric):\n",
            "0       576.0\n",
            "1         1.0\n",
            "2         1.8\n",
            "3       630.0\n",
            "4    130000.0\n",
            "Name: Numeric, dtype: float64\n"
          ]
        }
      ],
      "source": [
        "unique_counts = data.nunique()\n",
        "print(\"Number of unique values in each column:\")\n",
        "for col, count in unique_counts.items():\n",
        "    print(f\"{col}: {count}\")\n",
        "\n",
        "# Find column with most unique values\n",
        "most_diverse_col = unique_counts.idxmax()\n",
        "most_diverse_count = unique_counts.max()\n",
        "\n",
        "# Find second most diverse column\n",
        "second_diverse_col = unique_counts[unique_counts < most_diverse_count].idxmax()\n",
        "second_diverse_count = unique_counts[unique_counts < most_diverse_count].max()\n",
        "\n",
        "print(f\"\\nColumn with most unique values: {most_diverse_col} ({most_diverse_count} unique values)\")\n",
        "print(f\"Column with second most unique values: {second_diverse_col} ({second_diverse_count} unique values)\")\n",
        "\n",
        "# Display first few rows of these columns\n",
        "print(f\"\\nSample values from most diverse column ({most_diverse_col}):\")\n",
        "print(data[most_diverse_col].head())\n",
        "print(f\"\\nSample values from second most diverse column ({second_diverse_col}):\")\n",
        "print(data[second_diverse_col].head())"
      ]
    },
    {
      "cell_type": "markdown",
      "metadata": {
        "id": "xdq6GN7uPl_n"
      },
      "source": [
        "### 3. Data Redundancy\n",
        "\n",
        "Use Python to identify any columns in your data where the value for every row is the same.  For example, if you had a gender column and all the rows said 'M', then you would want to write the code that helped you determine that."
      ]
    },
    {
      "cell_type": "code",
      "execution_count": 3,
      "metadata": {
        "id": "cMWqAs4sPl_n",
        "outputId": "22fc18c7-a21f-45c0-b346-1be330662a86",
        "colab": {
          "base_uri": "https://localhost:8080/"
        }
      },
      "outputs": [
        {
          "output_type": "stream",
          "name": "stdout",
          "text": [
            "Columns with constant values:\n",
            "Column 'PUBLISH STATES' has value 'Published' in all rows\n",
            "\n",
            "First few rows of constant columns for verification:\n",
            "  PUBLISH STATES\n",
            "0      Published\n",
            "1      Published\n",
            "2      Published\n",
            "3      Published\n",
            "4      Published\n"
          ]
        }
      ],
      "source": [
        "constant_columns = []\n",
        "constant_values = {}\n",
        "\n",
        "for column in data.columns:\n",
        "    if data[column].nunique() == 1:\n",
        "        constant_columns.append(column)\n",
        "        constant_values[column] = data[column].iloc[0]\n",
        "\n",
        "# Display results\n",
        "if constant_columns:\n",
        "    print(\"Columns with constant values:\")\n",
        "    for column in constant_columns:\n",
        "        print(f\"Column '{column}' has value '{constant_values[column]}' in all rows\")\n",
        "else:\n",
        "    print(\"No columns found where all values are the same\")\n",
        "\n",
        "# Show example rows for verification\n",
        "if constant_columns:\n",
        "    print(\"\\nFirst few rows of constant columns for verification:\")\n",
        "    print(data[constant_columns].head())"
      ]
    },
    {
      "cell_type": "markdown",
      "metadata": {
        "id": "oBl14OW3Pl_o"
      },
      "source": [
        "### 4. Range of Values\n",
        "\n",
        "Your data almost certainly has some numeric columns that can be summed or averaged.  Create a histogram that shows the distribution of values for this column."
      ]
    },
    {
      "cell_type": "code",
      "execution_count": 4,
      "metadata": {
        "id": "WMHInSsBPl_o",
        "outputId": "09086e6d-c36e-443c-832c-cb76ec67b280",
        "colab": {
          "base_uri": "https://localhost:8080/",
          "height": 581
        }
      },
      "outputs": [
        {
          "output_type": "execute_result",
          "data": {
            "text/plain": [
              "Text(0, 0.5, 'Frequency')"
            ]
          },
          "metadata": {},
          "execution_count": 4
        },
        {
          "output_type": "display_data",
          "data": {
            "text/plain": [
              "<Figure size 1000x600 with 1 Axes>"
            ],
            "image/png": "[encoded data removed]"
          },
          "metadata": {}
        }
      ],
      "source": [
        "import matplotlib.pyplot as plt\n",
        "import seaborn as sns\n",
        "\n",
        "# Set figure size\n",
        "plt.figure(figsize=(10, 6))\n",
        "\n",
        "# Create histogram\n",
        "sns.histplot(data=data['Numeric'], bins=30, color='skyblue')\n",
        "\n",
        "# Add title and labels\n",
        "plt.title('Distribution of Numeric Values')\n",
        "plt.xlabel('Numeric Value')\n",
        "plt.ylabel('Frequency')"
      ]
    },
    {
      "cell_type": "markdown",
      "metadata": {
        "id": "ljjPDjDXPl_o"
      },
      "source": [
        "### 5. Discussion\n",
        "\n",
        "Do any additional exploration of this data that you think may be interesting and include your code here.  Then go onto Slack and make a post about what you've observed.  Share your observation.  Share your code, if you like.  Share a screenshot of the data or a chart based on the data.\n",
        "\n",
        "Then comment on at least two other people's observations that they share on Slack.  (Use the reply as thread option in Slack to keep the conversation organized.)"
      ]
    },
    {
      "cell_type": "code",
      "execution_count": 5,
      "metadata": {
        "id": "Gn2oT5W1Pl_o",
        "outputId": "094ef6cc-6c1d-403b-e47d-74e1167e42d9",
        "colab": {
          "base_uri": "https://localhost:8080/"
        }
      },
      "outputs": [
        {
          "output_type": "stream",
          "name": "stdout",
          "text": [
            "Summary of Missing Values:\n",
            "      Missing Values  Percentage Missing\n",
            "Low               40            0.645995\n",
            "High              40            0.645995\n"
          ]
        }
      ],
      "source": [
        "missing_values = data.isnull().sum()\n",
        "missing_percentages = (missing_values / len(data)) * 100\n",
        "missing_summary = pd.DataFrame({\n",
        "    'Missing Values': missing_values,\n",
        "    'Percentage Missing': missing_percentages\n",
        "})\n",
        "\n",
        "missing_summary = missing_summary[missing_summary['Missing Values'] > 0].sort_values('Missing Values', ascending=False)\n",
        "\n",
        "print(\"Summary of Missing Values:\")\n",
        "print(missing_summary)"
      ]
    },
    {
      "cell_type": "markdown",
      "metadata": {
        "id": "s8QHfGRrPl_o"
      },
      "source": [
        "\n",
        "\n",
        "---\n",
        "\n",
        "\n",
        "\n",
        "## Submitting Your Work\n",
        "\n",
        "Submit your work as usual."
      ]
    },
    {
      "cell_type": "code",
      "execution_count": null,
      "metadata": {
        "id": "yIc3nWdmPl_p"
      },
      "outputs": [],
      "source": []
    }
  ],
  "metadata": {
    "celltoolbar": "Create Assignment",
    "kernelspec": {
      "display_name": "Python 3",
      "language": "python",
      "name": "python3"
    },
    "language_info": {
      "codemirror_mode": {
        "name": "ipython",
        "version": 3
      },
      "file_extension": ".py",
      "mimetype": "text/x-python",
      "name": "python",
      "nbconvert_exporter": "python",
      "pygments_lexer": "ipython3",
      "version": "3.6.7"
    },
    "colab": {
      "provenance": []
    }
  },
  "nbformat": 4,
  "nbformat_minor": 0
}