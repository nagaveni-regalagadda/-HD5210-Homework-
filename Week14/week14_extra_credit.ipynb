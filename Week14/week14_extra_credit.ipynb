{
  "cells": [
    {
      "cell_type": "markdown",
      "metadata": {
        "id": "IhsuR2xj0lK8"
      },
      "source": [
        "# Week 14 Extra Credit - How will ChatGPT do on your final project idea?\n",
        "\n",
        "This extra credit assignment is entirely optional.  You do not need to do it.\n",
        "\n",
        "If you would like the opportunity to earn up to 5 extra credit points, complete this assignment and submit it via GitHub as normal before Monday, November 27 at 11:59 PM CST.  No late submissions will be accepted.  The file must be saved to your week13 folder in GitHub."
      ]
    },
    {
      "cell_type": "markdown",
      "metadata": {
        "id": "kOQSXp8s0lK-"
      },
      "source": [
        "## Part 1: Have a conversation with ChatGPT\n",
        "\n",
        "I want you to have a conversation with ChatGPT about your final project idea.  Find out what it thinks about your idea and if it has any data sources (URLs for specific sites) that could be helpful.  Below, either include copy/paste the chat history from your conversation or include a link to the shared chat.  (ChatGPT has an [option to share a link to a specific conversation](https://help.openai.com/en/articles/7925741-chatgpt-shared-links-faq).  It's the up-arrow icon in the upper-right corner of your chat window.)\n",
        "\n",
        "Take this conversationw with ChatGPT as far as you want, but at least ask three or four follow-up questions to refine the information you're getting back.\n",
        "\n",
        "If it starts giving you links to information, don't assume they're going to work. Remember that ChatGPT isn't perfect. So, follow the links and make sure there's information there that matches what ChatGPT says you will find."
      ]
    },
    {
      "cell_type": "markdown",
      "metadata": {
        "id": "QKm0_zcb0lK_"
      },
      "source": [
        "https://chatgpt.com/share/674d4094-fa44-800c-a5b0-650102830071 https://chatgpt.com/share/674d419b-bf58-800c-b28e-84627e10fae8\n",
        "\n",
        "**RESPONSE**\n",
        "\n",
        "*Enter your conversation or link to your chat here*"
      ]
    },
    {
      "cell_type": "markdown",
      "metadata": {
        "id": "GVL2mMnP0lK_"
      },
      "source": [
        "### Part 2: Your reflection\n",
        "\n",
        "Below, tell me what you think ChatGPT did well or not well in your conversation.  Was it good at finding data that you needed?  Was it good at finding actual links that worked?  Did its responses make sense to you?  What did it do well / not well?\n",
        "\n",
        "Your response below should be several sentences.  If you don't have enough feedback, expand your conversation with ChatGPT.  Ask it refine your project idea or start writing code for you.  See what it can do."
      ]
    },
    {
      "cell_type": "markdown",
      "metadata": {
        "id": "wCwZZFFq0lK_"
      },
      "source": [
        "When it comes to giving thorough, rational, and organized answers, ChatGPT has proven incredibly successful. Complex subjects are made simple to understand by its exceptional ability to retrieve and summarize pertinent information. Its capacity to produce original ideas or hone project concepts is remarkable; it frequently goes above and beyond the simple inquiry to provide value.\n",
        "\n",
        "It could be better at making sure that references or links are always current and operational when they are supplied. When using ChatGPT for browsing duties, I anticipate that citations will lead to reliable, functional resources. Additionally, even though its explanations are usually clear, there might be some situations in which improving user satisfaction would involve further simplification of the language or more precise customization of the response to meet particular demands.Although ChatGPT is a strong tool for brainstorming, coding assistance, and general problem-solving, it would be even better if it guaranteed real-time data accuracy and enhanced user adaptability.\n",
        "**RESPONSE**\n",
        "\n",
        "*Enter your reflections on the ChatGPT conversation here*"
      ]
    },
    {
      "cell_type": "markdown",
      "metadata": {
        "id": "8XaayneA0lK_"
      },
      "source": [
        "### Submitting\n",
        "\n",
        "Submit this as normal to GitHub with the name `week14/week14_extra_credit.ipynb`"
      ]
    },
    {
      "cell_type": "markdown",
      "metadata": {
        "id": "Pn1_6uJC0lLA"
      },
      "source": []
    }
  ],
  "metadata": {
    "language_info": {
      "name": "python"
    },
    "colab": {
      "provenance": []
    }
  },
  "nbformat": 4,
  "nbformat_minor": 0
}